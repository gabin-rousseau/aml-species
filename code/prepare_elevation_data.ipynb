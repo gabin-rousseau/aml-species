{
 "cells": [
  {
   "cell_type": "code",
   "execution_count": 20,
   "id": "616d0d4d-6bd8-4a04-82eb-97d309af1d94",
   "metadata": {},
   "outputs": [],
   "source": [
    "#import packages\n",
    "import numpy as np\n",
    "import matplotlib.pyplot as plt\n",
    "import pandas as pd\n",
    "from tqdm import tqdm\n",
    "from requests import get"
   ]
  },
  {
   "cell_type": "markdown",
   "id": "604fe03f-66c2-4439-a551-db3a2f2f8005",
   "metadata": {},
   "source": [
    "### Documentation of the api used to fetch altitudes: https://github.com/Jorl17/open-elevation"
   ]
  },
  {
   "cell_type": "code",
   "execution_count": 32,
   "id": "807f39c3-55bc-41fa-bb21-313e119bbfa4",
   "metadata": {},
   "outputs": [],
   "source": [
    "#load train data\n",
    "train_data=pd.read_csv('habitat_locs.csv',index_col=[0]) \n"
   ]
  },
  {
   "cell_type": "code",
   "execution_count": 89,
   "id": "46d3243b-7df9-45db-a9b2-c2ad5122b5d3",
   "metadata": {},
   "outputs": [],
   "source": [
    "#get the training Florida data\n",
    "\n",
    "#Keep coordinates that are within florida boundaries\n",
    "habitats_fl_temp = train_data[ (train_data['Lat'] >= 24.27) & (train_data['Lat'] <= 31.20)]\n",
    "habitats_fl = habitats_fl_temp[ (habitats_fl_temp['Lon'] <= -80.02) & (habitats_fl_temp['Lon'] >= -87.38)]\n",
    "train_fl=habitats_fl.copy()\n"
   ]
  },
  {
   "cell_type": "code",
   "execution_count": 38,
   "id": "14f833a8-5034-4292-846d-789d93c9b0d5",
   "metadata": {},
   "outputs": [
    {
     "data": {
      "text/plain": [
       "3546"
      ]
     },
     "execution_count": 38,
     "metadata": {},
     "output_type": "execute_result"
    }
   ],
   "source": [
    "len(train_fl)"
   ]
  },
  {
   "cell_type": "code",
   "execution_count": 33,
   "id": "aaa90251-b698-4350-b7a9-a970b617a7f4",
   "metadata": {},
   "outputs": [
    {
     "data": {
      "text/html": [
       "<div>\n",
       "<style scoped>\n",
       "    .dataframe tbody tr th:only-of-type {\n",
       "        vertical-align: middle;\n",
       "    }\n",
       "\n",
       "    .dataframe tbody tr th {\n",
       "        vertical-align: top;\n",
       "    }\n",
       "\n",
       "    .dataframe thead th {\n",
       "        text-align: right;\n",
       "    }\n",
       "</style>\n",
       "<table border=\"1\" class=\"dataframe\">\n",
       "  <thead>\n",
       "    <tr style=\"text-align: right;\">\n",
       "      <th></th>\n",
       "      <th>Lat</th>\n",
       "      <th>Lon</th>\n",
       "      <th>Cls</th>\n",
       "      <th>species_present</th>\n",
       "    </tr>\n",
       "  </thead>\n",
       "  <tbody>\n",
       "    <tr>\n",
       "      <th>0</th>\n",
       "      <td>-18.286728</td>\n",
       "      <td>143.481247</td>\n",
       "      <td>Aw</td>\n",
       "      <td>31529</td>\n",
       "    </tr>\n",
       "    <tr>\n",
       "      <th>1</th>\n",
       "      <td>-13.099798</td>\n",
       "      <td>130.783646</td>\n",
       "      <td>Aw</td>\n",
       "      <td>31529</td>\n",
       "    </tr>\n",
       "    <tr>\n",
       "      <th>2</th>\n",
       "      <td>-13.965274</td>\n",
       "      <td>131.695145</td>\n",
       "      <td>Aw</td>\n",
       "      <td>31529</td>\n",
       "    </tr>\n",
       "    <tr>\n",
       "      <th>3</th>\n",
       "      <td>-12.853950</td>\n",
       "      <td>132.800507</td>\n",
       "      <td>Aw</td>\n",
       "      <td>31529</td>\n",
       "    </tr>\n",
       "    <tr>\n",
       "      <th>4</th>\n",
       "      <td>-12.196790</td>\n",
       "      <td>134.279327</td>\n",
       "      <td>Aw</td>\n",
       "      <td>31529</td>\n",
       "    </tr>\n",
       "    <tr>\n",
       "      <th>...</th>\n",
       "      <td>...</td>\n",
       "      <td>...</td>\n",
       "      <td>...</td>\n",
       "      <td>...</td>\n",
       "    </tr>\n",
       "    <tr>\n",
       "      <th>272032</th>\n",
       "      <td>33.716885</td>\n",
       "      <td>73.203621</td>\n",
       "      <td>Cwa</td>\n",
       "      <td>145031</td>\n",
       "    </tr>\n",
       "    <tr>\n",
       "      <th>272033</th>\n",
       "      <td>24.600239</td>\n",
       "      <td>72.730560</td>\n",
       "      <td>BSh</td>\n",
       "      <td>145031</td>\n",
       "    </tr>\n",
       "    <tr>\n",
       "      <th>272034</th>\n",
       "      <td>18.849600</td>\n",
       "      <td>80.654129</td>\n",
       "      <td>Aw</td>\n",
       "      <td>145031</td>\n",
       "    </tr>\n",
       "    <tr>\n",
       "      <th>272035</th>\n",
       "      <td>21.073837</td>\n",
       "      <td>75.945656</td>\n",
       "      <td>BSh</td>\n",
       "      <td>145031</td>\n",
       "    </tr>\n",
       "    <tr>\n",
       "      <th>272036</th>\n",
       "      <td>18.142048</td>\n",
       "      <td>73.791260</td>\n",
       "      <td>Am</td>\n",
       "      <td>145031</td>\n",
       "    </tr>\n",
       "  </tbody>\n",
       "</table>\n",
       "<p>272037 rows × 4 columns</p>\n",
       "</div>"
      ],
      "text/plain": [
       "              Lat         Lon  Cls  species_present\n",
       "0      -18.286728  143.481247   Aw            31529\n",
       "1      -13.099798  130.783646   Aw            31529\n",
       "2      -13.965274  131.695145   Aw            31529\n",
       "3      -12.853950  132.800507   Aw            31529\n",
       "4      -12.196790  134.279327   Aw            31529\n",
       "...           ...         ...  ...              ...\n",
       "272032  33.716885   73.203621  Cwa           145031\n",
       "272033  24.600239   72.730560  BSh           145031\n",
       "272034  18.849600   80.654129   Aw           145031\n",
       "272035  21.073837   75.945656  BSh           145031\n",
       "272036  18.142048   73.791260   Am           145031\n",
       "\n",
       "[272037 rows x 4 columns]"
      ]
     },
     "execution_count": 33,
     "metadata": {},
     "output_type": "execute_result"
    }
   ],
   "source": [
    "train_data"
   ]
  },
  {
   "cell_type": "code",
   "execution_count": 39,
   "id": "50417594-724c-4ddc-a33d-3d34af1291df",
   "metadata": {},
   "outputs": [],
   "source": [
    "# script for returning elevation from lat, long, based on open elevation data\n",
    "# which in turn is based on SRTM\n",
    "def get_elevation(lat = None, long = None):\n",
    "    '''\n",
    "        A custom script designed to retrieve elevation data in meters based on latitude and longitude coordinates.\n",
    "    '''\n",
    "    if lat is None or long is None: return None\n",
    "    \n",
    "    query = ('https://api.open-elevation.com/api/v1/lookup'\n",
    "             f'?locations={lat},{long}')\n",
    "    \n",
    "    # Making a request with a 20-second timeout limit for sluggish responses\n",
    "    r = get(query, timeout = 20)\n",
    "\n",
    "    # Parsing the JSON response only for status codes 200 or 201\n",
    "    if r.status_code == 200 or r.status_code == 201:\n",
    "        elevation = pd.json_normalize(r.json(), 'results')['elevation'].values[0]\n",
    "    else: \n",
    "        elevation = None\n",
    "    return elevation"
   ]
  },
  {
   "cell_type": "code",
   "execution_count": 40,
   "id": "35c7fe6f-e334-40ef-9199-70703d1e0806",
   "metadata": {},
   "outputs": [
    {
     "name": "stdout",
     "output_type": "stream",
     "text": [
      "First coordinates: -18.28672790527344 , 143.4812469482422.\n",
      "First altitude: 295.0\n",
      "Second coordinates: -13.099798202514648 , 130.7836456298828.\n",
      "Second altitude: 98.0\n"
     ]
    }
   ],
   "source": [
    "#Example of altitude fetching:\n",
    "print(f'First coordinates: {train_data[\"Lat\"][0]} , {train_data[\"Lon\"][0]}.')\n",
    "print(f'First altitude: {get_elevation(train_data[\"Lat\"][0],train_data[\"Lon\"][0])}')\n",
    "\n",
    "print(f'Second coordinates: {train_data[\"Lat\"][1]} , {train_data[\"Lon\"][1]}.')\n",
    "print(f'Second altitude: {get_elevation(train_data[\"Lat\"][1],train_data[\"Lon\"][1])}')"
   ]
  },
  {
   "cell_type": "code",
   "execution_count": 63,
   "id": "ef62d036-8245-4f27-94e0-0df1a48cd42c",
   "metadata": {},
   "outputs": [
    {
     "name": "stderr",
     "output_type": "stream",
     "text": [
      "100%|██████████| 3546/3546 [07:15<00:00,  8.14it/s]\n"
     ]
    }
   ],
   "source": [
    "#Get a full list of altitudes from the Florida training dataset\n",
    "ids=train_fl.index.tolist()\n",
    "fl_altitudes=[]\n",
    "\n",
    "\n",
    "for i in tqdm(ids,position=0, leave=True):\n",
    "    lat,lon=train_fl['Lat'][i],train_fl['Lon'][i]\n",
    "    alt=get_elevation(lat,lon)\n",
    "    fl_altitudes.append(alt)\n",
    "   "
   ]
  },
  {
   "cell_type": "code",
   "execution_count": 79,
   "id": "95f91bb8-9d42-4f86-ae99-1db3a018ef2a",
   "metadata": {},
   "outputs": [
    {
     "name": "stdout",
     "output_type": "stream",
     "text": [
      "2 gaps pending...\n",
      "\n",
      "Failed replacement at id 667.\n",
      "Failed replacement at id 668.\n"
     ]
    }
   ],
   "source": [
    "#retry for empty indicies\n",
    "empty_fl=[i for i in range(len(fl_altitudes)) if fl_altitudes[i] == None]\n",
    "print(f'{len(empty_fl)} gaps pending...\\n')\n",
    "\n",
    "for i in empty_fl:\n",
    "    locate=ids[i]\n",
    "    lat,lon=train_fl['Lat'][locate],train_fl['Lon'][locate]\n",
    "    alt=get_elevation(lat,lon)\n",
    "    fl_altitudes[i]=alt\n",
    "    if fl_altitudes[i]!=None:\n",
    "        print(f'Succesful replacement at id {i}.')\n",
    "    else:\n",
    "        print(f'Failed replacement at id {i}.')"
   ]
  },
  {
   "cell_type": "code",
   "execution_count": 87,
   "id": "779310e9-0802-412c-b134-0fe21ee60172",
   "metadata": {},
   "outputs": [
    {
     "name": "stdout",
     "output_type": "stream",
     "text": [
      "Coordinates: 27.492679595947266 , -80.95001220703125.\n",
      "Altitude: None\n"
     ]
    }
   ],
   "source": [
    "#if some coordinates are consistently not registered, test out of loop, leave be if None is returned\n",
    "print(f'Coordinates: {train_data[\"Lat\"][ids[668]]} , {train_data[\"Lon\"][ids[668]]}.')\n",
    "print(f'Altitude: {get_elevation(train_data[\"Lat\"][ids[668]],train_data[\"Lon\"][ids[668]])}')\n"
   ]
  },
  {
   "cell_type": "code",
   "execution_count": 90,
   "id": "e9cb4177-d765-4882-86e2-dbe0bc01709e",
   "metadata": {},
   "outputs": [],
   "source": [
    "#update the dataset\n",
    "train_fl['Alt']=fl_altitudes\n"
   ]
  },
  {
   "cell_type": "code",
   "execution_count": 92,
   "id": "b96cd235-9352-4952-9520-add2abbfde90",
   "metadata": {},
   "outputs": [],
   "source": [
    "#save the data\n",
    "train_fl.to_csv('habitats_fl.csv')"
   ]
  }
 ],
 "metadata": {
  "kernelspec": {
   "display_name": "Python 3 (ipykernel)",
   "language": "python",
   "name": "python3"
  },
  "language_info": {
   "codemirror_mode": {
    "name": "ipython",
    "version": 3
   },
   "file_extension": ".py",
   "mimetype": "text/x-python",
   "name": "python",
   "nbconvert_exporter": "python",
   "pygments_lexer": "ipython3",
   "version": "3.11.9"
  }
 },
 "nbformat": 4,
 "nbformat_minor": 5
}
