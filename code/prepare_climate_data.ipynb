{
 "cells": [
  {
   "cell_type": "code",
   "execution_count": 1,
   "id": "8821b23a-6cf3-42b1-bf0a-fd9ea96b77ea",
   "metadata": {},
   "outputs": [],
   "source": [
    "#### Using K-nearest neightbour to cluster coordinates\n",
    "#%%Import modules\n",
    "import matplotlib.pyplot as plt\n",
    "import numpy as np\n",
    "import pandas as pd\n",
    "from sklearn.neighbors import KNeighborsClassifier\n"
   ]
  },
  {
   "cell_type": "code",
   "execution_count": 2,
   "id": "19183c58-cf58-4dd4-a7f3-9d82d5dbabbf",
   "metadata": {},
   "outputs": [],
   "source": [
    "#%%Load data\n",
    "D_test = np.load('full_test_pairs_clean.npz')\n",
    "test_locs = D_test['test_locs_clean']  # 2D array, rows are number of datapoints and \n",
    "                                 # columns are \"latitude\" and \"longitude\"\n",
    "test_ids = D_test['test_ids_clean']    # 1D array, entries are the ID of the species \n",
    "                                 # that is present at the corresponding location in test_locs\n",
    "#species = D_train['taxon_ids']      # list of species IDe. Note these do not necessarily start at 0 (or 1)\n",
    "#species_names = dict(zip(D_train['taxon_ids'], D_train['taxon_names']))  # latin names of species \n"
   ]
  },
  {
   "cell_type": "code",
   "execution_count": 5,
   "id": "0eacae5b-7225-49e0-b834-c97849751eaf",
   "metadata": {},
   "outputs": [
    {
     "name": "stderr",
     "output_type": "stream",
     "text": [
      "/tmp/ipykernel_16783/2682251382.py:3: FutureWarning: The 'delim_whitespace' keyword in pd.read_csv is deprecated and will be removed in a future version. Use ``sep='\\s+'`` instead\n",
      "  koeppen=pd.read_csv('Koeppen-Geiger-ASCII.txt',\n"
     ]
    }
   ],
   "source": [
    "#%% Cluster Coordinates\n",
    "#Get habitat data\n",
    "koeppen=pd.read_csv('Koeppen-Geiger-ASCII.txt',\n",
    "                      delim_whitespace=True)\n",
    "habitats=pd.DataFrame(test_locs,\n",
    "                          columns=['Lat', 'Lon'],\n",
    "                          dtype='float')\n",
    "\n",
    "# Make coordinates into a list\n",
    "coordinates=list(zip(koeppen['Lat'], koeppen['Lon']))\n",
    "\n",
    "#Fit k-nearest neighbour\n",
    "knn = KNeighborsClassifier(n_neighbors=1)\n",
    "knn.fit(coordinates, koeppen['Cls'])\n",
    "\n",
    "#Map predictions to training data coordinates\n",
    "coords_train = list(zip(habitats['Lat'],habitats['Lon']))\n",
    "habitats['Cls']=knn.predict(coords_train)\n"
   ]
  },
  {
   "cell_type": "code",
   "execution_count": 6,
   "id": "31093719-ab23-4242-8ee9-46c889563646",
   "metadata": {},
   "outputs": [
    {
     "name": "stdout",
     "output_type": "stream",
     "text": [
      "        Lat         Lon Cls  species_present\n",
      "0  9.630478 -173.535599  Af             4636\n",
      "1  3.839375 -162.544464  Af             4636\n",
      "2  4.289169 -167.944778  Af             4636\n",
      "3  3.879849 -169.720459  Af             4636\n",
      "4 -6.237210 -169.554123  Af             4636\n",
      "               Lat        Lon  Cls  species_present\n",
      "1706641  31.998211  72.541458  BSh           145031\n",
      "1706642  26.927755  69.225052  BWh           145031\n",
      "1706643  23.349318  70.605515  BSh           145031\n",
      "1706644  23.706282  68.259659  BWh           145031\n",
      "1706645  24.304489  70.202431  BWh           145031\n"
     ]
    }
   ],
   "source": [
    "#%% Testing and reformatting\n",
    "habitats['species_present']=test_ids\n",
    "print(habitats.head())\n",
    "print(habitats.tail())\n",
    "habitats.to_csv(\"habitat_test_locs.csv\")"
   ]
  }
 ],
 "metadata": {
  "kernelspec": {
   "display_name": "Python 3 (ipykernel)",
   "language": "python",
   "name": "python3"
  },
  "language_info": {
   "codemirror_mode": {
    "name": "ipython",
    "version": 3
   },
   "file_extension": ".py",
   "mimetype": "text/x-python",
   "name": "python",
   "nbconvert_exporter": "python",
   "pygments_lexer": "ipython3",
   "version": "3.11.9"
  }
 },
 "nbformat": 4,
 "nbformat_minor": 5
}
