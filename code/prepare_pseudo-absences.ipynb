{
 "cells": [
  {
   "cell_type": "code",
   "execution_count": 40,
   "id": "f412791d-4ca4-4541-a833-9f24a2b1cc35",
   "metadata": {},
   "outputs": [],
   "source": [
    "#import packages\n",
    "import numpy as np\n",
    "import matplotlib.pyplot as plt\n",
    "import pandas as pd\n",
    "from tqdm import tqdm\n",
    "from requests import get\n",
    "import math\n",
    "from shapely import geometry\n",
    "from shapely.geometry import Point\n",
    "from shapely.geometry import box\n",
    "import random"
   ]
  },
  {
   "cell_type": "markdown",
   "id": "0283be77-e802-4ec6-9ba8-9c1008beae6c",
   "metadata": {},
   "source": [
    "## Plan to make pseudoabsences:\n",
    "### The general idea is to emulate the target-group background points method to generate pseudo-absences in single-species models (by using points from other species clearly separated from the populations of interest, rather than producing points randomly).\n",
    "\n",
    "https://doi.org/10.1016/j.ecoinf.2024.102623 - recent overview of pseudoabsences, especially for multi-species deep learning\n",
    "\n",
    "https://doi.org/10.1890/07-2153.1 - pseudoabsence and single species sample selection bias\n",
    " \n",
    "- For each species, define the rectangular area within which the species is present (S).\n",
    "\n",
    "- Then define a rectangular area that contains ALL data points (A).\n",
    "\n",
    "- Assign absences for each species to points where other species are observed in the difference area D (A - S)."
   ]
  },
  {
   "cell_type": "code",
   "execution_count": 53,
   "id": "4d3c38d3-2305-4d57-9493-8d8b62371a13",
   "metadata": {},
   "outputs": [],
   "source": [
    "#Step 0: load training set\n",
    "train=pd.read_csv('train_USA_FLspecies.csv').drop(['Unnamed: 0'],axis=1)\n",
    "species=list(set(train['species']))"
   ]
  },
  {
   "cell_type": "code",
   "execution_count": 54,
   "id": "45180090-2a50-4b8f-9ae8-f940db37fd4a",
   "metadata": {},
   "outputs": [],
   "source": [
    "# Step 1: Define A\n",
    "min_lon, max_lon = train['Lon'].min(), train['Lon'].max()\n",
    "min_lat, max_lat = train['Lat'].min(), train['Lat'].max()\n",
    "A = box(min_lon, min_lat, max_lon, max_lat)\n",
    "\n"
   ]
  },
  {
   "cell_type": "code",
   "execution_count": 57,
   "id": "c61e8a08-f780-481c-b480-513d8d0f0cd7",
   "metadata": {},
   "outputs": [
    {
     "name": "stderr",
     "output_type": "stream",
     "text": [
      "100%|██████████| 36/36 [01:00<00:00,  1.69s/it]\n"
     ]
    }
   ],
   "source": [
    "#Step 2: Loop through the data to get pseudoabsences from D!\n",
    "#note: for some species, there should be a sizeable amount of absence points thanks to this, perhaps for a couple that are widespread there might actually be few points?\n",
    "lat_0=[]\n",
    "lon_0=[]\n",
    "cls_0=[]\n",
    "species_0=[]\n",
    "country_0=[]\n",
    "state_0=[]\n",
    "alt_0=[]\n",
    "altz_0=[]\n",
    "absences=[]\n",
    "\n",
    "for s in tqdm(species):\n",
    "    subset=train.loc[train['species']==s]\n",
    "    min_lon, max_lon = subset['Lon'].min(), subset['Lon'].max()\n",
    "    min_lat, max_lat = subset['Lat'].min(), subset['Lat'].max()\n",
    "    S = box(min_lon, min_lat, max_lon, max_lat)\n",
    "    D = A.difference(S)\n",
    "    negset=train.loc[train['species']!=s]\n",
    "    ids=negset.index.tolist()\n",
    "    for i in ids:\n",
    "        x=negset['Lon'][i]\n",
    "        y=negset['Lat'][i]\n",
    "        point = geometry.Point(x, y)\n",
    "        \n",
    "        if D.contains(point):\n",
    "            if S.contains(point): #breaks if somehow a point ends up in the species' area at the same time as D\n",
    "                print(f'BEEP BEEP, a point is in the wrong spot dummy! Species looked at: {s}')\n",
    "                break\n",
    "            #get data\n",
    "            cls=negset['Cls'][i]\n",
    "            state=negset['state'][i]\n",
    "            alt=negset['Alt'][i]\n",
    "            altz=negset['Alt_zone'][i]\n",
    "            #define new row for absence data\n",
    "            species_0.append(s)\n",
    "            lat_0.append(y)\n",
    "            lon_0.append(x)\n",
    "            cls_0.append(cls)\n",
    "            state_0.append(state)\n",
    "            alt_0.append(alt)\n",
    "            altz_0.append(altz)\n",
    "            \n",
    "#complete country and absence rows with minimal computing            \n",
    "for i in range(len(species_0)):\n",
    "    country_0.append('US')\n",
    "    absences.append(0)"
   ]
  },
  {
   "cell_type": "code",
   "execution_count": 37,
   "id": "bf3fe9f7-9247-4af4-a8e5-b5aed1e94635",
   "metadata": {},
   "outputs": [
    {
     "data": {
      "image/svg+xml": [
       "<svg xmlns=\"http://www.w3.org/2000/svg\" xmlns:xlink=\"http://www.w3.org/1999/xlink\" width=\"119.38516204833985\" height=\"100.0\" viewBox=\"-181.80349334716797 12.307830963134766 119.38516204833985 49.21924942016602\" preserveAspectRatio=\"xMinYMin meet\"><g transform=\"matrix(1,0,0,-1,0,73.83491134643555)\"><path fill-rule=\"evenodd\" fill=\"#66cc99\" stroke=\"#555555\" stroke-width=\"2.0\" opacity=\"0.6\" d=\"M -177.38182067871094,16.729503631591797 L -177.38182067871094,57.10540771484375 L -66.84000396728516,57.10540771484375 L -66.84000396728516,16.729503631591797 L -177.38182067871094,16.729503631591797 z M -79.7628402709961,33.80438232421875 L -86.24427032470703,33.80438232421875 L -86.24427032470703,29.21051788330078 L -79.7628402709961,29.21051788330078 L -79.7628402709961,33.80438232421875 z\" /></g></svg>"
      ],
      "text/plain": [
       "<POLYGON ((-177.382 16.73, -177.382 57.105, -66.84 57.105, -66.84 16.73, -17...>"
      ]
     },
     "execution_count": 37,
     "metadata": {},
     "output_type": "execute_result"
    }
   ],
   "source": [
    "#OPTIONAL - code to play around with the geometry functions\n",
    "subset=train.loc[train['species']==65987]\n",
    "min_lon, max_lon = subset['Lon'].min(), subset['Lon'].max()\n",
    "min_lat, max_lat = subset['Lat'].min(), subset['Lat'].max()\n",
    "S = box(min_lon, min_lat, max_lon, max_lat)\n",
    "D = A.difference(S) #creates the difference polygon, removing the area containing the species s\n"
   ]
  },
  {
   "cell_type": "code",
   "execution_count": 60,
   "id": "2ab900fa-925a-415b-9383-7bb5c968d8f6",
   "metadata": {},
   "outputs": [
    {
     "data": {
      "text/plain": [
       "469434"
      ]
     },
     "execution_count": 60,
     "metadata": {},
     "output_type": "execute_result"
    }
   ],
   "source": [
    "#Get some info from the new data\n",
    "print(len(species_0)"
   ]
  },
  {
   "cell_type": "code",
   "execution_count": 61,
   "id": "9fd9c0d5-2cf0-4a48-a4c0-872228d874d5",
   "metadata": {},
   "outputs": [],
   "source": [
    "#save data\n",
    "train_0dict={'Lat':lat_0,'Lon':lon_0,'Cls':cls_0,'species':species_0,'country_code':country_0,'state':state_0,'Alt':alt_0,'Alt_zone':altz_0,'presence':absences}\n",
    "train_0=pd.DataFrame(train_0dict)"
   ]
  },
  {
   "cell_type": "code",
   "execution_count": 63,
   "id": "47a5851e-1146-422b-be4e-e5f96bebf3a6",
   "metadata": {},
   "outputs": [],
   "source": [
    "#concatenate presence and absence data\n",
    "train_full=pd.concat([train,train_0])"
   ]
  },
  {
   "cell_type": "code",
   "execution_count": 67,
   "id": "cac5e77e-0407-4ed3-9746-dc3a09b6d929",
   "metadata": {},
   "outputs": [],
   "source": [
    "#save to csv\n",
    "train_0.to_csv('train_USA_FLspecies_pseudoabs.csv',index=False)\n",
    "train_full.to_csv('train_USA_FLspecies_full.csv',index=False)"
   ]
  },
  {
   "cell_type": "code",
   "execution_count": 66,
   "id": "5d121062-7cf0-4136-8b3c-02a88fdb8078",
   "metadata": {},
   "outputs": [
    {
     "data": {
      "text/html": [
       "<div>\n",
       "<style scoped>\n",
       "    .dataframe tbody tr th:only-of-type {\n",
       "        vertical-align: middle;\n",
       "    }\n",
       "\n",
       "    .dataframe tbody tr th {\n",
       "        vertical-align: top;\n",
       "    }\n",
       "\n",
       "    .dataframe thead th {\n",
       "        text-align: right;\n",
       "    }\n",
       "</style>\n",
       "<table border=\"1\" class=\"dataframe\">\n",
       "  <thead>\n",
       "    <tr style=\"text-align: right;\">\n",
       "      <th></th>\n",
       "      <th>Lat</th>\n",
       "      <th>Lon</th>\n",
       "      <th>Cls</th>\n",
       "      <th>species</th>\n",
       "      <th>country_code</th>\n",
       "      <th>state</th>\n",
       "      <th>Alt</th>\n",
       "      <th>Alt_zone</th>\n",
       "      <th>presence</th>\n",
       "    </tr>\n",
       "  </thead>\n",
       "  <tbody>\n",
       "    <tr>\n",
       "      <th>0</th>\n",
       "      <td>25.634735</td>\n",
       "      <td>-80.340370</td>\n",
       "      <td>Am</td>\n",
       "      <td>41301</td>\n",
       "      <td>US</td>\n",
       "      <td>Florida</td>\n",
       "      <td>6.0</td>\n",
       "      <td>1</td>\n",
       "      <td>1</td>\n",
       "    </tr>\n",
       "    <tr>\n",
       "      <th>1</th>\n",
       "      <td>37.769390</td>\n",
       "      <td>-122.477516</td>\n",
       "      <td>Csb</td>\n",
       "      <td>41301</td>\n",
       "      <td>US</td>\n",
       "      <td>California</td>\n",
       "      <td>90.0</td>\n",
       "      <td>2</td>\n",
       "      <td>1</td>\n",
       "    </tr>\n",
       "    <tr>\n",
       "      <th>2</th>\n",
       "      <td>30.487162</td>\n",
       "      <td>-98.510986</td>\n",
       "      <td>Cfa</td>\n",
       "      <td>41301</td>\n",
       "      <td>US</td>\n",
       "      <td>Texas</td>\n",
       "      <td>356.0</td>\n",
       "      <td>3</td>\n",
       "      <td>1</td>\n",
       "    </tr>\n",
       "    <tr>\n",
       "      <th>3</th>\n",
       "      <td>31.403215</td>\n",
       "      <td>-111.242226</td>\n",
       "      <td>BSk</td>\n",
       "      <td>41301</td>\n",
       "      <td>US</td>\n",
       "      <td>Arizona</td>\n",
       "      <td>1090.0</td>\n",
       "      <td>5</td>\n",
       "      <td>1</td>\n",
       "    </tr>\n",
       "    <tr>\n",
       "      <th>4</th>\n",
       "      <td>29.761759</td>\n",
       "      <td>-95.398102</td>\n",
       "      <td>Cfa</td>\n",
       "      <td>41301</td>\n",
       "      <td>US</td>\n",
       "      <td>Texas</td>\n",
       "      <td>7.0</td>\n",
       "      <td>1</td>\n",
       "      <td>1</td>\n",
       "    </tr>\n",
       "    <tr>\n",
       "      <th>...</th>\n",
       "      <td>...</td>\n",
       "      <td>...</td>\n",
       "      <td>...</td>\n",
       "      <td>...</td>\n",
       "      <td>...</td>\n",
       "      <td>...</td>\n",
       "      <td>...</td>\n",
       "      <td>...</td>\n",
       "      <td>...</td>\n",
       "    </tr>\n",
       "    <tr>\n",
       "      <th>469429</th>\n",
       "      <td>41.859474</td>\n",
       "      <td>-87.827278</td>\n",
       "      <td>Dfa</td>\n",
       "      <td>38008</td>\n",
       "      <td>US</td>\n",
       "      <td>Illinois</td>\n",
       "      <td>194.0</td>\n",
       "      <td>3</td>\n",
       "      <td>0</td>\n",
       "    </tr>\n",
       "    <tr>\n",
       "      <th>469430</th>\n",
       "      <td>35.969742</td>\n",
       "      <td>-111.718010</td>\n",
       "      <td>Csb</td>\n",
       "      <td>38008</td>\n",
       "      <td>US</td>\n",
       "      <td>Arizona</td>\n",
       "      <td>1769.0</td>\n",
       "      <td>6</td>\n",
       "      <td>0</td>\n",
       "    </tr>\n",
       "    <tr>\n",
       "      <th>469431</th>\n",
       "      <td>29.366583</td>\n",
       "      <td>-95.983978</td>\n",
       "      <td>Cfa</td>\n",
       "      <td>38008</td>\n",
       "      <td>US</td>\n",
       "      <td>Texas</td>\n",
       "      <td>23.0</td>\n",
       "      <td>1</td>\n",
       "      <td>0</td>\n",
       "    </tr>\n",
       "    <tr>\n",
       "      <th>469432</th>\n",
       "      <td>45.245014</td>\n",
       "      <td>-84.086388</td>\n",
       "      <td>Dfb</td>\n",
       "      <td>38008</td>\n",
       "      <td>US</td>\n",
       "      <td>Michigan</td>\n",
       "      <td>256.0</td>\n",
       "      <td>3</td>\n",
       "      <td>0</td>\n",
       "    </tr>\n",
       "    <tr>\n",
       "      <th>469433</th>\n",
       "      <td>37.614941</td>\n",
       "      <td>-118.834686</td>\n",
       "      <td>Csb</td>\n",
       "      <td>38008</td>\n",
       "      <td>US</td>\n",
       "      <td>California</td>\n",
       "      <td>2168.0</td>\n",
       "      <td>7</td>\n",
       "      <td>0</td>\n",
       "    </tr>\n",
       "  </tbody>\n",
       "</table>\n",
       "<p>504249 rows × 9 columns</p>\n",
       "</div>"
      ],
      "text/plain": [
       "              Lat         Lon  Cls  species country_code       state     Alt  \\\n",
       "0       25.634735  -80.340370   Am    41301           US     Florida     6.0   \n",
       "1       37.769390 -122.477516  Csb    41301           US  California    90.0   \n",
       "2       30.487162  -98.510986  Cfa    41301           US       Texas   356.0   \n",
       "3       31.403215 -111.242226  BSk    41301           US     Arizona  1090.0   \n",
       "4       29.761759  -95.398102  Cfa    41301           US       Texas     7.0   \n",
       "...           ...         ...  ...      ...          ...         ...     ...   \n",
       "469429  41.859474  -87.827278  Dfa    38008           US    Illinois   194.0   \n",
       "469430  35.969742 -111.718010  Csb    38008           US     Arizona  1769.0   \n",
       "469431  29.366583  -95.983978  Cfa    38008           US       Texas    23.0   \n",
       "469432  45.245014  -84.086388  Dfb    38008           US    Michigan   256.0   \n",
       "469433  37.614941 -118.834686  Csb    38008           US  California  2168.0   \n",
       "\n",
       "        Alt_zone  presence  \n",
       "0              1         1  \n",
       "1              2         1  \n",
       "2              3         1  \n",
       "3              5         1  \n",
       "4              1         1  \n",
       "...          ...       ...  \n",
       "469429         3         0  \n",
       "469430         6         0  \n",
       "469431         1         0  \n",
       "469432         3         0  \n",
       "469433         7         0  \n",
       "\n",
       "[504249 rows x 9 columns]"
      ]
     },
     "execution_count": 66,
     "metadata": {},
     "output_type": "execute_result"
    }
   ],
   "source": [
    "train_full"
   ]
  },
  {
   "cell_type": "code",
   "execution_count": 65,
   "id": "365ed45b-a1ef-432e-99ac-035b42b6f344",
   "metadata": {},
   "outputs": [
    {
     "data": {
      "text/plain": [
       "True"
      ]
     },
     "execution_count": 65,
     "metadata": {},
     "output_type": "execute_result"
    }
   ],
   "source": [
    "#is the concatenated data of the correct length?\n",
    "len(train_full)==(len(train)+len(train_0))"
   ]
  }
 ],
 "metadata": {
  "kernelspec": {
   "display_name": "Python 3 (ipykernel)",
   "language": "python",
   "name": "python3"
  },
  "language_info": {
   "codemirror_mode": {
    "name": "ipython",
    "version": 3
   },
   "file_extension": ".py",
   "mimetype": "text/x-python",
   "name": "python",
   "nbconvert_exporter": "python",
   "pygments_lexer": "ipython3",
   "version": "3.11.9"
  }
 },
 "nbformat": 4,
 "nbformat_minor": 5
}
