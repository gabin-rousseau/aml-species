{
 "cells": [
  {
   "cell_type": "code",
   "execution_count": 1,
   "id": "2512ace0-48a7-4192-914a-899abe0f78b6",
   "metadata": {},
   "outputs": [
    {
     "name": "stdout",
     "output_type": "stream",
     "text": [
      "              Lat         Lon country_code       state\n",
      "276884  36.556831 -110.211555           US     Arizona\n",
      "276885  29.468510 -100.040077           US       Texas\n",
      "276887  33.321297 -108.826859           US  New Mexico\n",
      "276889  30.393030 -103.439911           US       Texas\n",
      "276897  26.891691  -98.113892           US       Texas\n",
      "21244\n"
     ]
    }
   ],
   "source": [
    "# USA TEST (unique coordinates)\n",
    "#%% import\n",
    "import numpy as np\n",
    "import pandas as pd\n",
    "import reverse_geocode\n",
    "\n",
    "#%% loading test data \n",
    "data_test = np.load('species_test.npz', allow_pickle=True)\n",
    "test_locs = data_test['test_locs']    # 2D array, rows are number of datapoints \n",
    "                                      # and columns are \"latitude\" and \"longitude\"\n",
    "# data_test['test_pos_inds'] is a list of lists, where each list corresponds to \n",
    "# the indices in test_locs where a given species is present, it can be assumed \n",
    "# that they are not present in the other locations \n",
    "test_pos_inds = dict(zip(data_test['taxon_ids'], data_test['test_pos_inds']))\n",
    "\n",
    "#%% USA coordinates\n",
    "country_dict = reverse_geocode.search(test_locs)\n",
    "country_code = [d.get('country_code') for d in country_dict]\n",
    "states = [d.get('state') for d in country_dict]\n",
    "\n",
    "USA_coords=pd.DataFrame(columns=['Lat', 'Lon'])\n",
    "USA_coords['Lat'] = [test_locs[l][0] for l in range(0,len(test_locs))]\n",
    "USA_coords['Lon'] = [test_locs[l][1] for l in range(0,len(test_locs))]\n",
    "USA_coords['country_code'] = country_code\n",
    "USA_coords['state'] = states\n",
    "\n",
    "USA_coords = USA_coords[USA_coords['country_code'] == 'US']\n",
    "print(USA_coords.tail())\n",
    "print(len(USA_coords))"
   ]
  },
  {
   "cell_type": "code",
   "execution_count": 2,
   "id": "87e209d7-e028-426f-87b8-fa9d98794a98",
   "metadata": {},
   "outputs": [],
   "source": [
    "USA_coords.to_csv(\"test_USA.csv\")"
   ]
  },
  {
   "cell_type": "code",
   "execution_count": 5,
   "id": "2781a753-5492-4474-966c-09fbb6316dcf",
   "metadata": {},
   "outputs": [
    {
     "name": "stdout",
     "output_type": "stream",
     "text": [
      "        Unnamed: 0        Lat         Lon  Cls  species_present country_code  \\\n",
      "270938      270938  41.859474  -87.827278  Dfa            10168           US   \n",
      "270941      270941  35.969742 -111.718010  Csb            10168           US   \n",
      "270942      270942  29.366583  -95.983978  Cfa            10168           US   \n",
      "270943      270943  45.245014  -84.086388  Dfb            10168           US   \n",
      "270944      270944  37.614941 -118.834686  Csb            10168           US   \n",
      "\n",
      "             state  \n",
      "270938    Illinois  \n",
      "270941     Arizona  \n",
      "270942       Texas  \n",
      "270943    Michigan  \n",
      "270944  California  \n",
      "85871\n"
     ]
    }
   ],
   "source": [
    "# USA Train\n",
    "#%% import\n",
    "import numpy as np\n",
    "import pandas as pd\n",
    "import pandas as pd\n",
    "import reverse_geocode\n",
    "\n",
    "#%% loading test data \n",
    "data_train = pd.read_csv('habitat_locs.csv')\n",
    "\n",
    "\n",
    "#%% USA coordinates\n",
    "country_dict = reverse_geocode.search(data_train[['Lat','Lon']].to_numpy())\n",
    "country_code = [d.get('country_code') for d in country_dict]\n",
    "states = [d.get('state') for d in country_dict]\n",
    "\n",
    "USA_coords=data_train.copy()\n",
    "USA_coords['country_code'] = country_code\n",
    "USA_coords['state'] = states\n",
    "\n",
    "USA_coords = USA_coords[USA_coords['country_code'] == 'US']\n",
    "print(USA_coords.tail())\n",
    "print(len(USA_coords))"
   ]
  },
  {
   "cell_type": "code",
   "execution_count": 6,
   "id": "770f6903-db4e-4357-a204-6e3ce41da455",
   "metadata": {},
   "outputs": [],
   "source": [
    "USA_coords.to_csv(\"train_USA.csv\")"
   ]
  },
  {
   "cell_type": "code",
   "execution_count": 2,
   "id": "36f8dc36-e1a6-4958-8b70-4c3bdca3f521",
   "metadata": {},
   "outputs": [
    {
     "name": "stdout",
     "output_type": "stream",
     "text": [
      "Collecting reverse_geocode\n",
      "  Using cached reverse_geocode-1.6.5-py3-none-any.whl.metadata (3.0 kB)\n",
      "Requirement already satisfied: numpy in /opt/conda/lib/python3.11/site-packages (from reverse_geocode) (1.26.4)\n",
      "Requirement already satisfied: scipy in /opt/conda/lib/python3.11/site-packages (from reverse_geocode) (1.14.1)\n",
      "Using cached reverse_geocode-1.6.5-py3-none-any.whl (3.3 MB)\n",
      "Installing collected packages: reverse_geocode\n",
      "Successfully installed reverse_geocode-1.6.5\n",
      "Note: you may need to restart the kernel to use updated packages.\n"
     ]
    }
   ],
   "source": [
    "pip install reverse_geocode"
   ]
  },
  {
   "cell_type": "code",
   "execution_count": 1,
   "id": "c4d6650c-32a6-435f-a8fc-014dcec4b3b2",
   "metadata": {},
   "outputs": [
    {
     "name": "stdout",
     "output_type": "stream",
     "text": [
      "         Unnamed: 0        Lat         Lon  Cls  species_present country_code  \\\n",
      "1702289     1702289  36.556831 -110.211555  BSk            10168           US   \n",
      "1702290     1702290  29.468510 -100.040077  BSh            10168           US   \n",
      "1702291     1702291  33.321297 -108.826859  Csb            10168           US   \n",
      "1702293     1702293  30.393030 -103.439911  BSk            10168           US   \n",
      "1702296     1702296  26.891691  -98.113892  Cfa            10168           US   \n",
      "\n",
      "              state  \n",
      "1702289     Arizona  \n",
      "1702290       Texas  \n",
      "1702291  New Mexico  \n",
      "1702293       Texas  \n",
      "1702296       Texas  \n",
      "141725\n"
     ]
    }
   ],
   "source": [
    "#USA test (all points)\n",
    "#%% import\n",
    "import numpy as np\n",
    "import pandas as pd\n",
    "import pandas as pd\n",
    "import reverse_geocode\n",
    "\n",
    "#%% loading test data \n",
    "data_test = pd.read_csv('habitat_test_locs.csv')\n",
    "\n",
    "\n",
    "#%% USA coordinates\n",
    "country_dict = reverse_geocode.search(data_test[['Lat','Lon']].to_numpy())\n",
    "country_code = [d.get('country_code') for d in country_dict]\n",
    "states = [d.get('state') for d in country_dict]\n",
    "\n",
    "USA_coords=data_test.copy()\n",
    "USA_coords['country_code'] = country_code\n",
    "USA_coords['state'] = states\n",
    "\n",
    "USA_coords = USA_coords[USA_coords['country_code'] == 'US']\n",
    "print(USA_coords.tail())\n",
    "print(len(USA_coords))"
   ]
  },
  {
   "cell_type": "code",
   "execution_count": 2,
   "id": "ef33628c-0ffd-403c-ad2f-d343078f2f91",
   "metadata": {},
   "outputs": [],
   "source": [
    "USA_coords.to_csv(\"test_USA_full.csv\")"
   ]
  }
 ],
 "metadata": {
  "kernelspec": {
   "display_name": "Python 3 (ipykernel)",
   "language": "python",
   "name": "python3"
  },
  "language_info": {
   "codemirror_mode": {
    "name": "ipython",
    "version": 3
   },
   "file_extension": ".py",
   "mimetype": "text/x-python",
   "name": "python",
   "nbconvert_exporter": "python",
   "pygments_lexer": "ipython3",
   "version": "3.11.9"
  }
 },
 "nbformat": 4,
 "nbformat_minor": 5
}
