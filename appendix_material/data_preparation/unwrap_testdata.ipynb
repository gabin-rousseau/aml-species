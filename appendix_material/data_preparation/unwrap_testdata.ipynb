{
 "cells": [
  {
   "cell_type": "code",
   "execution_count": 2,
   "id": "3a777bff-9d09-4b7d-9395-f51029b5d940",
   "metadata": {},
   "outputs": [],
   "source": [
    "#import packages\n",
    "import numpy as np\n",
    "from tqdm import tqdm"
   ]
  },
  {
   "cell_type": "code",
   "execution_count": null,
   "id": "62ec7941-6243-4f02-b81b-660db8d9e01c",
   "metadata": {},
   "outputs": [],
   "source": [
    "# loading test data \n",
    "data_test = np.load('species_test.npz', allow_pickle=True)\n",
    "test_locs = data_test['test_locs']\n",
    "test_pos_inds = dict(zip(data_test['taxon_ids'], data_test['test_pos_inds']))"
   ]
  },
  {
   "cell_type": "code",
   "execution_count": null,
   "id": "b46ea282-d671-4236-bb5d-2bf30d3e5ebf",
   "metadata": {},
   "outputs": [],
   "source": [
    "#map all species-loc pair from the test data\n",
    "X_test = np.full((288122,1), -1,dtype=int)\n",
    "y_test = test_locs.copy()\n",
    "\n",
    "for species_id in tqdm(list(test_pos_inds.keys())):\n",
    "    for loc_id in list(test_pos_inds[species_id]):\n",
    "        if X_test[loc_id] == -1:\n",
    "            X_test[loc_id]=species_id\n",
    "        else:\n",
    "            X_test=np.insert(X_test, len(X_test), species_id, axis=0)\n",
    "            y_test=np.insert(y_test, len(y_test), test_locs[loc_id], axis=0)\n"
   ]
  },
  {
   "cell_type": "code",
   "execution_count": null,
   "id": "ba21e671-bc3f-4677-9d29-4838261207f1",
   "metadata": {},
   "outputs": [],
   "source": [
    "#notice some coordinates are not matched to any speciees\n",
    "np.where(X_test == -1)[0]"
   ]
  },
  {
   "cell_type": "code",
   "execution_count": null,
   "id": "c91d5679-6722-465b-ae74-235029ae4a86",
   "metadata": {},
   "outputs": [],
   "source": [
    "#clean X_test and y_test\n",
    "X_test_clean=X_test.copy()\n",
    "y_test_clean=y_test.copy()\n",
    "modifier=0\n",
    "for i in tqdm(np.where(X_test_dirty == -1)[0]):\n",
    "    X_test_clean = np.delete(X_test_clean, i+modifier, axis=0)\n",
    "    y_test_clean= np.delete(y_test_clean, i+modifier, axis=0)\n",
    "    modifier-=1"
   ]
  },
  {
   "cell_type": "code",
   "execution_count": null,
   "id": "a6772844-7d1d-4ee1-83fc-fe5cb151d118",
   "metadata": {},
   "outputs": [],
   "source": [
    "#save clean data\n",
    "np.savez(\"full_test_pairs_clean.npz\",test_ids_clean=X_test_clean,test_locs_clean=y_test_clean)"
   ]
  },
  {
   "cell_type": "code",
   "execution_count": 3,
   "id": "1f1207c3-3984-484b-a122-c904f2de7401",
   "metadata": {},
   "outputs": [
    {
     "name": "stdout",
     "output_type": "stream",
     "text": [
      "['test_ids_clean', 'test_locs_clean']\n",
      "[[   9.630478  -173.5356   ]\n",
      " [   3.8393748 -162.54446  ]\n",
      " [   4.2891693 -167.94478  ]\n",
      " [   3.8798492 -169.72046  ]\n",
      " [  -6.2372103 -169.55412  ]\n",
      " [  12.929188  -164.36719  ]\n",
      " [   2.1833935 -170.84467  ]\n",
      " [  13.982451  -173.69691  ]\n",
      " [   2.3470275 -164.14453  ]\n",
      " [   7.566241  -171.2438   ]]\n"
     ]
    }
   ],
   "source": [
    "#look at the first 10 elements in the clean unwrapped test data\n",
    "npzfile = np.load(\"full_test_pairs_clean.npz\")\n",
    "print(sorted(npzfile.files))\n",
    "print(npzfile['test_locs_clean'][:10])"
   ]
  }
 ],
 "metadata": {
  "kernelspec": {
   "display_name": "Python 3 (ipykernel)",
   "language": "python",
   "name": "python3"
  },
  "language_info": {
   "codemirror_mode": {
    "name": "ipython",
    "version": 3
   },
   "file_extension": ".py",
   "mimetype": "text/x-python",
   "name": "python",
   "nbconvert_exporter": "python",
   "pygments_lexer": "ipython3",
   "version": "3.11.9"
  }
 },
 "nbformat": 4,
 "nbformat_minor": 5
}
